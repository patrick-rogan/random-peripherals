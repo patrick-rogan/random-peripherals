{
 "cells": [
  {
   "cell_type": "markdown",
   "metadata": {},
   "source": [
    "__COMSW4121 Homework 6: Spark Homework__ \n",
    "\n",
    "\n",
    "Patrick Rogan\n",
    "\n",
    "UNI: psr2125"
   ]
  },
  {
   "cell_type": "code",
   "execution_count": 1,
   "metadata": {
    "collapsed": false,
    "scrolled": true
   },
   "outputs": [
    {
     "data": {
      "text/plain": [
       "<pyspark.context.SparkContext at 0xb205cc8c>"
      ]
     },
     "execution_count": 1,
     "metadata": {},
     "output_type": "execute_result"
    }
   ],
   "source": [
    "sc"
   ]
  },
  {
   "cell_type": "code",
   "execution_count": 2,
   "metadata": {
    "collapsed": false
   },
   "outputs": [
    {
     "data": {
      "text/plain": [
       "P1/file1 MapPartitionsRDD[1] at textFile at NativeMethodAccessorImpl.java:-2"
      ]
     },
     "execution_count": 2,
     "metadata": {},
     "output_type": "execute_result"
    }
   ],
   "source": [
    "# All files copied to vagrant vm by vagrant scp\n",
    "# moved file1 and file1 to /home/vagrant/P1 in order to be able to use wholeTextFiles\n",
    "lines = sc.textFile(\"P1/file1\")\n",
    "lines"
   ]
  },
  {
   "cell_type": "code",
   "execution_count": 3,
   "metadata": {
    "collapsed": false
   },
   "outputs": [
    {
     "data": {
      "text/plain": [
       "[u'Hello World Bye World']"
      ]
     },
     "execution_count": 3,
     "metadata": {},
     "output_type": "execute_result"
    }
   ],
   "source": [
    "lines.collect()"
   ]
  },
  {
   "cell_type": "markdown",
   "metadata": {},
   "source": [
    "__Total Word Count__"
   ]
  },
  {
   "cell_type": "code",
   "execution_count": 4,
   "metadata": {
    "collapsed": false
   },
   "outputs": [],
   "source": [
    "words = lines.flatMap(lambda l: l.split(\" \"))"
   ]
  },
  {
   "cell_type": "code",
   "execution_count": 5,
   "metadata": {
    "collapsed": false
   },
   "outputs": [
    {
     "data": {
      "text/plain": [
       "4"
      ]
     },
     "execution_count": 5,
     "metadata": {},
     "output_type": "execute_result"
    }
   ],
   "source": [
    "words.count()"
   ]
  },
  {
   "cell_type": "markdown",
   "metadata": {},
   "source": [
    "__Problem 1__"
   ]
  },
  {
   "cell_type": "code",
   "execution_count": 6,
   "metadata": {
    "collapsed": false
   },
   "outputs": [],
   "source": [
    "f1f2 = sc.wholeTextFiles(\"P1/\",use_unicode = False)"
   ]
  },
  {
   "cell_type": "code",
   "execution_count": 7,
   "metadata": {
    "collapsed": false
   },
   "outputs": [],
   "source": [
    "phrases = f1f2.map(lambda (x,y):y.strip())"
   ]
  },
  {
   "cell_type": "code",
   "execution_count": 8,
   "metadata": {
    "collapsed": false
   },
   "outputs": [
    {
     "name": "stdout",
     "output_type": "stream",
     "text": [
      "World: 2\n",
      "Bye: 1\n",
      "Hello: 2\n",
      "Goodbye: 1\n",
      "Hadoop: 2\n"
     ]
    }
   ],
   "source": [
    "import re\n",
    "wc = phrases.flatMap(lambda l: l.split(\" \")).map(lambda l: (l,1)).reduceByKey(lambda x,y: x + y)\n",
    "\n",
    "for w in wc.collect():\n",
    "    print(re.sub(',',':', re.sub('[\\(\\)\\']','',str(w))))"
   ]
  },
  {
   "cell_type": "markdown",
   "metadata": {},
   "source": [
    "__Problem 2__"
   ]
  },
  {
   "cell_type": "code",
   "execution_count": 9,
   "metadata": {
    "collapsed": true
   },
   "outputs": [],
   "source": [
    "from pyspark.sql import SQLContext\n",
    "from pyspark.sql.types import *\n",
    "sqlContext = SQLContext(sc)"
   ]
  },
  {
   "cell_type": "code",
   "execution_count": 10,
   "metadata": {
    "collapsed": false
   },
   "outputs": [],
   "source": [
    "lines = sc.textFile(\"purchases.txt\")"
   ]
  },
  {
   "cell_type": "code",
   "execution_count": 11,
   "metadata": {
    "collapsed": false
   },
   "outputs": [],
   "source": [
    "# convert each entry of the RDD into a tuple containing values of each field in correct format\n",
    "splitLines = lines.map(lambda ln: ln.split(\",\"))\n",
    "purch = splitLines.map(lambda wd: (wd[0], wd[1], wd[2], float(wd[3]), wd[4].strip()))\n",
    "\n",
    "# encode the schema into an array called fields\n",
    "fields = [StructField('timestamp', StringType(), True),\n",
    "          StructField('location', StringType(), True),\n",
    "          StructField('category', StringType(), True), \n",
    "          StructField('price', FloatType(), True),\n",
    "          StructField('card', StringType(), True)]\n",
    "\n",
    "schema = StructType(fields)\n",
    "\n",
    "# apply the schema to the RDD\n",
    "schemaPurchases = sqlContext.createDataFrame(purch, schema)\n",
    "\n",
    "# register the DataFrame as a table called purchases\n",
    "schemaPurchases.registerTempTable(\"purchases\")"
   ]
  },
  {
   "cell_type": "code",
   "execution_count": 12,
   "metadata": {
    "collapsed": false
   },
   "outputs": [
    {
     "name": "stdout",
     "output_type": "stream",
     "text": [
      "c0               \n",
      "275.0677317417774\n"
     ]
    }
   ],
   "source": [
    "# i. What is the average price of the products that were purchased via Mastercard?\n",
    "sqlContext.sql(\"SELECT AVG(price) FROM purchases WHERE card = 'MasterCard'\").show()"
   ]
  },
  {
   "cell_type": "code",
   "execution_count": 13,
   "metadata": {
    "collapsed": false
   },
   "outputs": [
    {
     "name": "stdout",
     "output_type": "stream",
     "text": [
      "SS         SP               \n",
      "2012-03-17 2384.480026245117\n"
     ]
    }
   ],
   "source": [
    "# ii. Which date recorded the highest total sales?\n",
    "sqlContext.sql(\"SELECT SUBSTR(timestamp,1,10) as SS,SUM(price) as SP from purchases GROUP BY SUBSTR(timestamp,1,10) ORDER BY SP DESC LIMIT 1\").show()"
   ]
  },
  {
   "cell_type": "code",
   "execution_count": 14,
   "metadata": {
    "collapsed": false
   },
   "outputs": [
    {
     "name": "stdout",
     "output_type": "stream",
     "text": [
      "price\n",
      "0.38 \n"
     ]
    }
   ],
   "source": [
    "# iii. What is the minimum value of a product under the Computers category?\n",
    "sqlContext.sql(\"SELECT price FROM purchases WHERE category = 'Computers' ORDER BY price LIMIT 1\").show()"
   ]
  },
  {
   "cell_type": "code",
   "execution_count": 15,
   "metadata": {
    "collapsed": false
   },
   "outputs": [
    {
     "name": "stdout",
     "output_type": "stream",
     "text": [
      "c0\n",
      "18\n"
     ]
    }
   ],
   "source": [
    "# iv. How many distinct categories of products are there?\n",
    "sqlContext.sql(\"SELECT COUNT(DISTINCT(category)) FROM purchases\").show()"
   ]
  },
  {
   "cell_type": "code",
   "execution_count": 16,
   "metadata": {
    "collapsed": false
   },
   "outputs": [
    {
     "name": "stdout",
     "output_type": "stream",
     "text": [
      "location SP               \n",
      "Plano    784.9599838256836\n"
     ]
    }
   ],
   "source": [
    "# v. Which store location had the lowest total sales?\n",
    "sqlContext.sql(\"SELECT location, SUM(price) AS SP FROM purchases GROUP by location ORDER BY SP LIMIT 1\").show()"
   ]
  },
  {
   "cell_type": "markdown",
   "metadata": {},
   "source": [
    "__Problem 3__"
   ]
  },
  {
   "cell_type": "code",
   "execution_count": 17,
   "metadata": {
    "collapsed": false
   },
   "outputs": [
    {
     "data": {
      "text/plain": [
       "[(u'2012-07-20 09:59:00', u'Corpus Christi', u'CDs', 327.91, u'Cash'),\n",
       " (u'2012-03-11 17:29:00', u'Durham', u'Books', 115.09, u'Discover'),\n",
       " (u'2012-07-31 11:43:00', u'Rochester', u'Toys', 332.07, u'MasterCard'),\n",
       " (u'2012-06-18 14:47:00', u'Garland', u'Computers', 31.99, u'Visa'),\n",
       " (u'2012-03-27 11:40:00', u'Tulsa', u'CDs', 452.18, u'Discover')]"
      ]
     },
     "execution_count": 17,
     "metadata": {},
     "output_type": "execute_result"
    }
   ],
   "source": [
    "purch.take(5)"
   ]
  },
  {
   "cell_type": "code",
   "execution_count": 18,
   "metadata": {
    "collapsed": false
   },
   "outputs": [
    {
     "name": "stdout",
     "output_type": "stream",
     "text": [
      "timestamp           location       category  price  card      \n",
      "2012-07-20 09:59:00 Corpus Christi CDs       327.91 Cash      \n",
      "2012-03-11 17:29:00 Durham         Books     115.09 Discover  \n",
      "2012-07-31 11:43:00 Rochester      Toys      332.07 MasterCard\n",
      "2012-06-18 14:47:00 Garland        Computers 31.99  Visa      \n",
      "2012-03-27 11:40:00 Tulsa          CDs       452.18 Discover  \n"
     ]
    }
   ],
   "source": [
    "purchasesDF = purch.toDF(['timestamp','location','category','price','card'])\n",
    "purchasesDF.show(5)"
   ]
  },
  {
   "cell_type": "code",
   "execution_count": 19,
   "metadata": {
    "collapsed": true
   },
   "outputs": [],
   "source": [
    "from pyspark.sql.functions import *"
   ]
  },
  {
   "cell_type": "code",
   "execution_count": 20,
   "metadata": {
    "collapsed": false
   },
   "outputs": [
    {
     "name": "stdout",
     "output_type": "stream",
     "text": [
      "AVG(price)        \n",
      "275.06773195876286\n"
     ]
    }
   ],
   "source": [
    "# i. What is the average price of the products that were purchased via Mastercard?\n",
    "purchasesDF.filter(purchasesDF.card == \"MasterCard\").agg(avg(col('price'))).show()"
   ]
  },
  {
   "cell_type": "code",
   "execution_count": 21,
   "metadata": {
    "collapsed": false
   },
   "outputs": [],
   "source": [
    "# ii. Which date recorded the highest total sales?\n",
    "#purchasesDF.select('timestamp','price').groupBy('timestamp').agg(sum('price')).show()"
   ]
  },
  {
   "cell_type": "code",
   "execution_count": 22,
   "metadata": {
    "collapsed": false
   },
   "outputs": [
    {
     "name": "stdout",
     "output_type": "stream",
     "text": [
      "MIN(price)\n",
      "0.38      \n"
     ]
    }
   ],
   "source": [
    "# iii. What is the minimum value of a product under the Computers category?\n",
    "purchasesDF.filter(purchasesDF.category == \"Computers\").agg(min(col('price'))).show()"
   ]
  },
  {
   "cell_type": "code",
   "execution_count": 23,
   "metadata": {
    "collapsed": false
   },
   "outputs": [
    {
     "name": "stdout",
     "output_type": "stream",
     "text": [
      "18\n"
     ]
    }
   ],
   "source": [
    "# iv. How many distinct categories of products are there?\n",
    "cats = purchasesDF.select('category').groupBy('category').agg(countDistinct('category'))\n",
    "print(len(cats.collect()))"
   ]
  },
  {
   "cell_type": "code",
   "execution_count": 24,
   "metadata": {
    "collapsed": false
   },
   "outputs": [],
   "source": [
    "# v. Which store location had the lowest total sales?\n",
    "#purchasesDF.select('location','price').groupBy('location').agg(sum('price')).show()"
   ]
  }
 ],
 "metadata": {
  "kernelspec": {
   "display_name": "Python 2",
   "language": "python",
   "name": "python2"
  },
  "language_info": {
   "codemirror_mode": {
    "name": "ipython",
    "version": 2
   },
   "file_extension": ".py",
   "mimetype": "text/x-python",
   "name": "python",
   "nbconvert_exporter": "python",
   "pygments_lexer": "ipython2",
   "version": "2.7.11+"
  }
 },
 "nbformat": 4,
 "nbformat_minor": 0
}
