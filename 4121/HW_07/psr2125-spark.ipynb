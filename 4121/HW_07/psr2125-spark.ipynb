{
 "cells": [
  {
   "cell_type": "markdown",
   "metadata": {
    "collapsed": true
   },
   "source": [
    "__COMSW4121 Assignment 3: \n",
    "Spark Machine Learning Assignment (from Chapter 3 of Advanced Analytics using Spark book)\n",
    "__ \n",
    "\n",
    "\n",
    "Patrick Rogan\n",
    "\n",
    "UNI: psr2125\n",
    "\n",
    "Collaborator: Joshua Safyan (jds2258)"
   ]
  },
  {
   "cell_type": "code",
   "execution_count": 1,
   "metadata": {
    "collapsed": false,
    "scrolled": true
   },
   "outputs": [
    {
     "data": {
      "text/plain": [
       "<pyspark.context.SparkContext at 0xb20b7c8c>"
      ]
     },
     "execution_count": 1,
     "metadata": {},
     "output_type": "execute_result"
    }
   ],
   "source": [
    "sc"
   ]
  },
  {
   "cell_type": "code",
   "execution_count": 1,
   "metadata": {
    "collapsed": false
   },
   "outputs": [
    {
     "ename": "NameError",
     "evalue": "name 'sc' is not defined",
     "output_type": "error",
     "traceback": [
      "\u001b[1;31m---------------------------------------------------------------------------\u001b[0m",
      "\u001b[1;31mNameError\u001b[0m                                 Traceback (most recent call last)",
      "\u001b[1;32m<ipython-input-1-48939d1aa305>\u001b[0m in \u001b[0;36m<module>\u001b[1;34m()\u001b[0m\n\u001b[0;32m      3\u001b[0m \u001b[1;31m#    3 columns: userid artistid playcount\u001b[0m\u001b[1;33m\u001b[0m\u001b[1;33m\u001b[0m\u001b[0m\n\u001b[0;32m      4\u001b[0m \u001b[1;33m\u001b[0m\u001b[0m\n\u001b[1;32m----> 5\u001b[1;33m \u001b[0mrawUserArtistData\u001b[0m \u001b[1;33m=\u001b[0m \u001b[0msc\u001b[0m\u001b[1;33m.\u001b[0m\u001b[0mtextFile\u001b[0m\u001b[1;33m(\u001b[0m\u001b[1;34m\"audio_data/user_artist_data_r.txt\"\u001b[0m\u001b[1;33m)\u001b[0m\u001b[1;33m\u001b[0m\u001b[0m\n\u001b[0m",
      "\u001b[1;31mNameError\u001b[0m: name 'sc' is not defined"
     ]
    }
   ],
   "source": [
    "# read in matrix of user-artist data, from readme:\n",
    "# user_artist_data.txt\n",
    "#    3 columns: userid artistid playcount\n",
    "\n",
    "rawUserArtistData = sc.textFile(\"audio_data/user_artist_data_r.txt\")"
   ]
  },
  {
   "cell_type": "code",
   "execution_count": 3,
   "metadata": {
    "collapsed": false
   },
   "outputs": [],
   "source": [
    "# Read in map between artist name and id, create map. If there is no artist id, map to (None, None)\n",
    "# artist_data.txt\n",
    "#    2 columns: artistid artist_name\n",
    "\n",
    "rawArtistData = sc.textFile(\"audio_data/artist_data.txt\")\n",
    "\n",
    "def parseArtist(lines):\n",
    "    line = lines.split('\\t')\n",
    "    try: \n",
    "        int(line[0])\n",
    "        line[1] = \" \".join(line[1:])  # join every list element from after the first tab split\n",
    "        return [(int(line[0]), line[1].encode('ascii','ignore').strip())] # strip out unicode characters\n",
    "    except:\n",
    "        return [(None,None)]\n",
    "    \n",
    "artistByID = rawArtistData.flatMap(parseArtist)"
   ]
  },
  {
   "cell_type": "code",
   "execution_count": 4,
   "metadata": {
    "collapsed": false
   },
   "outputs": [],
   "source": [
    "# read in matrix that maps misspelled or nonstandard names to the artist’s canonical name, \n",
    "# as with artist id, if the line is corrupted, map to (None, None) then collect these as a map.\n",
    "# from readme:\n",
    "# artist_alias.txt\n",
    "#    2 columns: badid, goodid\n",
    "#    known incorrectly spelt artists and the correct artist id. \n",
    "#    you can correct errors in user_artist_data as you read it in using this file\n",
    "#    (we're not yet finished merging this data)\n",
    "\n",
    "rawArtistAlias = sc.textFile(\"audio_data/artist_alias.txt\")\n",
    "\n",
    "def splitNclean(lines):\n",
    "    if lines.split('\\t')[0]:\n",
    "        return [(int(lines.split('\\t')[0]), int(lines.split('\\t')[1]))]\n",
    "    else:\n",
    "        return [(None,None)]\n",
    "\n",
    "artistAlias = rawArtistAlias.flatMap(splitNclean).collectAsMap()"
   ]
  },
  {
   "cell_type": "code",
   "execution_count": 5,
   "metadata": {
    "collapsed": false
   },
   "outputs": [],
   "source": [
    "# Import ALS and other modules\n",
    "from pyspark.mllib.recommendation import ALS, MatrixFactorizationModel, Rating"
   ]
  },
  {
   "cell_type": "code",
   "execution_count": 6,
   "metadata": {
    "collapsed": false
   },
   "outputs": [],
   "source": [
    "# Map all artist ids in the rawUserArtistData to their canonical ids and \n",
    "# create a Ratings object. \n",
    "# \n",
    "# After completing this step, fit the model on the data using predefined\n",
    "# hyperparameters.\n",
    "\n",
    "bArtistAlias = sc.broadcast(artistAlias)\n",
    "\n",
    "def processToRating(lines):\n",
    "    fields = [int(x) for x in lines.split(' ')]\n",
    "    \n",
    "    # lookup canonical artist id, if it does not exist use default\n",
    "    finalArtistID = bArtistAlias.value.get(fields[1])\n",
    "    if not finalArtistID:\n",
    "        finalArtistID = fields[1]\n",
    "\n",
    "    # (userID, artistID, count)\n",
    "    return Rating(fields[0],finalArtistID,fields[2])\n",
    "\n",
    "trainData = rawUserArtistData.map(processToRating).cache()\n",
    "\n",
    "model = ALS.trainImplicit(trainData, 10, 5, 0.01)"
   ]
  },
  {
   "cell_type": "code",
   "execution_count": 7,
   "metadata": {
    "collapsed": false
   },
   "outputs": [
    {
     "name": "stdout",
     "output_type": "stream",
     "text": [
      "Rating(user=2093760, product=1007614, rating=0.032505367281193485)\n",
      "Rating(user=2093760, product=4605, rating=0.030709324769752626)\n",
      "Rating(user=2093760, product=2814, rating=0.03035657717182504)\n",
      "Rating(user=2093760, product=1001819, rating=0.02904980509991882)\n",
      "Rating(user=2093760, product=829, rating=0.028654810237964203)\n",
      "Rating(user=2093760, product=1037970, rating=0.027949257190184897)\n",
      "Rating(user=2093760, product=1811, rating=0.027948151817487707)\n",
      "Rating(user=2093760, product=250, rating=0.027449306475440555)\n",
      "Rating(user=2093760, product=930, rating=0.02636111017375321)\n",
      "Rating(user=2093760, product=1003249, rating=0.024860725307017797)\n"
     ]
    }
   ],
   "source": [
    "# Print top 10 recommendations for a user from the fitted model\n",
    "\n",
    "testUserID = 2093760\n",
    "\n",
    "recommendations = model.call(\"recommendProducts\", testUserID, 10)\n",
    "\n",
    "for rec in recommendations: \n",
    "    print rec"
   ]
  },
  {
   "cell_type": "code",
   "execution_count": 8,
   "metadata": {
    "collapsed": false
   },
   "outputs": [
    {
     "name": "stdout",
     "output_type": "stream",
     "text": [
      "['Jay-Z']\n",
      "['Snoop Dogg']\n",
      "['50 Cent']\n",
      "['2Pac']\n",
      "['Nas']\n",
      "['Kanye West']\n",
      "['Dr. Dre']\n",
      "['Outkast']\n",
      "['Eminem']\n",
      "['Ludacris']\n"
     ]
    }
   ],
   "source": [
    "# Print the corresponding canonical artist name for the top 10 recommendations\n",
    "\n",
    "for rec in recommendations:\n",
    "    print artistByID.lookup(rec[1])"
   ]
  }
 ],
 "metadata": {
  "kernelspec": {
   "display_name": "Python 2",
   "language": "python",
   "name": "python2"
  },
  "language_info": {
   "codemirror_mode": {
    "name": "ipython",
    "version": 2
   },
   "file_extension": ".py",
   "mimetype": "text/x-python",
   "name": "python",
   "nbconvert_exporter": "python",
   "pygments_lexer": "ipython2",
   "version": "2.7.11+"
  }
 },
 "nbformat": 4,
 "nbformat_minor": 0
}
